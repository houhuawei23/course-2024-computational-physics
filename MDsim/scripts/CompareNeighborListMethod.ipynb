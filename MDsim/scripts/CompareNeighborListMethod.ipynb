{
 "cells": [
  {
   "cell_type": "markdown",
   "metadata": {},
   "source": [
    "```text\n",
    "atom_nums 864\n",
    "velocity 60 # temperature in units of K\n",
    "time_step 5 # time step in units of fs\n",
    "run 10000\n",
    "\n",
    "```\n",
    "\n",
    "- ON1: Time used = 8.741 s\n",
    "- ON2: Time used = 8.450 s\n",
    "\n",
    "```text\n",
    "atom_nums 4000\n",
    "velocity 60 # temperature in units of K\n",
    "time_step 5 # time step in units of fs\n",
    "run 1000\n",
    "\n",
    "```\n",
    "\n",
    "- ON1: Time used = 4.18134 s\n",
    "- ON2: Time used = 5.63044 s\n",
    "- None: Time used = 65.7296 s\n",
    "\n",
    "parallel for find force:\n",
    "- ON1: Time used = 12.7575 s, why?\n",
    "- None: Time used = 24.7007 s or 21.1668 s\n",
    "\n",
    "need profile to find the bottleneck!!"
   ]
  },
  {
   "cell_type": "code",
   "execution_count": null,
   "metadata": {},
   "outputs": [],
   "source": []
  },
  {
   "cell_type": "markdown",
   "metadata": {},
   "source": []
  },
  {
   "cell_type": "code",
   "execution_count": null,
   "metadata": {},
   "outputs": [],
   "source": []
  }
 ],
 "metadata": {
  "kernelspec": {
   "display_name": "base",
   "language": "python",
   "name": "python3"
  },
  "language_info": {
   "name": "python",
   "version": "3.12.2"
  }
 },
 "nbformat": 4,
 "nbformat_minor": 2
}
